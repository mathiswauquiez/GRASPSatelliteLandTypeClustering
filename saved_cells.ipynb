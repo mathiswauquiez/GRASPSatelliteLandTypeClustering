{
 "cells": [
  {
   "cell_type": "code",
   "execution_count": null,
   "metadata": {},
   "outputs": [],
   "source": [
    "# import nx\n",
    "import networkx as nx\n",
    "\n",
    "points = kmeans.cluster_centers_\n",
    "# Calculate distance matrix\n",
    "distance_matrix = (kmeans.cluster_centers_[np.newaxis, :, :] - kmeans.cluster_centers_[:, np.newaxis, :])**2\n",
    "distance_matrix = np.sqrt(np.sum(distance_matrix, axis=-1))\n",
    "\n",
    "num_points = len(points)\n",
    "\n",
    "# Create a complete graph\n",
    "G = nx.complete_graph(num_points)\n",
    "\n",
    "# Assign distances as edge weights\n",
    "for i in range(num_points):\n",
    "    for j in range(num_points):\n",
    "        if i != j:\n",
    "            G[i][j]['weight'] = distance_matrix[i][j]\n",
    "\n",
    "# Solve TSP using networkx\n",
    "tsp_solution = np.array(nx.approximation.traveling_salesman_problem(G, cycle=False))\n",
    "\n",
    "# Convert TSP solution to edge list\n",
    "tsp_edges = [(tsp_solution[i], tsp_solution[i+1]) for i in range(len(tsp_solution)-1)]\n",
    "tsp_edges.append((tsp_solution[-1], tsp_solution[0]))  # Add edge from last node to first node to complete the cycle\n",
    "\n",
    "# Plot the graph with points and edges\n",
    "pos = {i: points[i] for i in range(num_points)}\n",
    "nx.draw(G, pos, with_labels=True, node_size=700, node_color='skyblue', font_size=10)\n",
    "nx.draw_networkx_edges(G, pos, edgelist=tsp_edges, edge_color='r', width=2)\n",
    "plt.title('Traveling Salesman Problem Solution')\n",
    "plt.show()\n",
    "\n",
    "print(\"TSP Solution:\", tsp_solution)\n"
   ]
  }
 ],
 "metadata": {
  "language_info": {
   "name": "python"
  }
 },
 "nbformat": 4,
 "nbformat_minor": 2
}
